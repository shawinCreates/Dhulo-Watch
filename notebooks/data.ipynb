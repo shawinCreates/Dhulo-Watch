{
 "cells": [
  {
   "cell_type": "code",
   "execution_count": 1,
   "id": "1428f64d",
   "metadata": {},
   "outputs": [],
   "source": [
    "import pandas as pd\n",
    "import matplotlib.pyplot as plt\n",
    "import seaborn as sns"
   ]
  },
  {
   "cell_type": "code",
   "execution_count": 2,
   "id": "c818b714",
   "metadata": {},
   "outputs": [
    {
     "data": {
      "text/html": [
       "<div>\n",
       "<style scoped>\n",
       "    .dataframe tbody tr th:only-of-type {\n",
       "        vertical-align: middle;\n",
       "    }\n",
       "\n",
       "    .dataframe tbody tr th {\n",
       "        vertical-align: top;\n",
       "    }\n",
       "\n",
       "    .dataframe thead th {\n",
       "        text-align: right;\n",
       "    }\n",
       "</style>\n",
       "<table border=\"1\" class=\"dataframe\">\n",
       "  <thead>\n",
       "    <tr style=\"text-align: right;\">\n",
       "      <th></th>\n",
       "      <th>station</th>\n",
       "      <th>particulate_matter</th>\n",
       "      <th>datetime</th>\n",
       "      <th>value</th>\n",
       "    </tr>\n",
       "  </thead>\n",
       "  <tbody>\n",
       "    <tr>\n",
       "      <th>0</th>\n",
       "      <td>Bhaisipati</td>\n",
       "      <td>PM1</td>\n",
       "      <td>2019-06-20T08:58:00Z</td>\n",
       "      <td>3.7</td>\n",
       "    </tr>\n",
       "    <tr>\n",
       "      <th>1</th>\n",
       "      <td>Bhaisipati</td>\n",
       "      <td>PM1</td>\n",
       "      <td>2019-06-20T09:08:00Z</td>\n",
       "      <td>3.6</td>\n",
       "    </tr>\n",
       "    <tr>\n",
       "      <th>2</th>\n",
       "      <td>Bhaisipati</td>\n",
       "      <td>PM1</td>\n",
       "      <td>2019-06-20T09:18:00Z</td>\n",
       "      <td>3.5</td>\n",
       "    </tr>\n",
       "    <tr>\n",
       "      <th>3</th>\n",
       "      <td>Bhaisipati</td>\n",
       "      <td>PM1</td>\n",
       "      <td>2019-06-20T09:38:00Z</td>\n",
       "      <td>3.8</td>\n",
       "    </tr>\n",
       "    <tr>\n",
       "      <th>4</th>\n",
       "      <td>Bhaisipati</td>\n",
       "      <td>PM1</td>\n",
       "      <td>2019-06-20T09:48:00Z</td>\n",
       "      <td>4.1</td>\n",
       "    </tr>\n",
       "  </tbody>\n",
       "</table>\n",
       "</div>"
      ],
      "text/plain": [
       "      station particulate_matter               datetime value\n",
       "0  Bhaisipati                 PM1  2019-06-20T08:58:00Z   3.7\n",
       "1  Bhaisipati                 PM1  2019-06-20T09:08:00Z   3.6\n",
       "2  Bhaisipati                 PM1  2019-06-20T09:18:00Z   3.5\n",
       "3  Bhaisipati                 PM1  2019-06-20T09:38:00Z   3.8\n",
       "4  Bhaisipati                 PM1  2019-06-20T09:48:00Z   4.1"
      ]
     },
     "execution_count": 2,
     "metadata": {},
     "output_type": "execute_result"
    }
   ],
   "source": [
    "ktm = pd.read_csv(r'../data/Kathmandu.csv')\n",
    "ktm.head()"
   ]
  },
  {
   "cell_type": "code",
   "execution_count": 3,
   "id": "4c1c2e13",
   "metadata": {},
   "outputs": [
    {
     "data": {
      "text/plain": [
       "(89886, 4)"
      ]
     },
     "execution_count": 3,
     "metadata": {},
     "output_type": "execute_result"
    }
   ],
   "source": [
    "ktm.shape"
   ]
  },
  {
   "cell_type": "code",
   "execution_count": 4,
   "id": "4a7a2500",
   "metadata": {},
   "outputs": [
    {
     "name": "stdout",
     "output_type": "stream",
     "text": [
      "<class 'pandas.core.frame.DataFrame'>\n",
      "RangeIndex: 89886 entries, 0 to 89885\n",
      "Data columns (total 4 columns):\n",
      " #   Column               Non-Null Count  Dtype \n",
      "---  ------               --------------  ----- \n",
      " 0   station              89886 non-null  object\n",
      " 1   particulate_matter   89886 non-null  object\n",
      " 2   datetime             89886 non-null  object\n",
      " 3   value                89886 non-null  object\n",
      "dtypes: object(4)\n",
      "memory usage: 2.7+ MB\n"
     ]
    }
   ],
   "source": [
    "ktm.info()"
   ]
  },
  {
   "cell_type": "code",
   "execution_count": 5,
   "id": "40d5f8eb",
   "metadata": {},
   "outputs": [
    {
     "data": {
      "text/plain": [
       "particulate_matter \n",
       "TSP      22628\n",
       "PM10     22609\n",
       "PM2.5    22579\n",
       "PM1      22070\n",
       "Name: count, dtype: int64"
      ]
     },
     "execution_count": 5,
     "metadata": {},
     "output_type": "execute_result"
    }
   ],
   "source": [
    "ktm['particulate_matter '].value_counts()"
   ]
  },
  {
   "cell_type": "code",
   "execution_count": 6,
   "id": "b7caa5b8",
   "metadata": {},
   "outputs": [],
   "source": [
    "ktm['datetime'] = pd.to_datetime(ktm['datetime'], utc=True, errors='coerce')"
   ]
  },
  {
   "cell_type": "code",
   "execution_count": 7,
   "id": "583e8a7a",
   "metadata": {},
   "outputs": [
    {
     "data": {
      "text/html": [
       "<div>\n",
       "<style scoped>\n",
       "    .dataframe tbody tr th:only-of-type {\n",
       "        vertical-align: middle;\n",
       "    }\n",
       "\n",
       "    .dataframe tbody tr th {\n",
       "        vertical-align: top;\n",
       "    }\n",
       "\n",
       "    .dataframe thead th {\n",
       "        text-align: right;\n",
       "    }\n",
       "</style>\n",
       "<table border=\"1\" class=\"dataframe\">\n",
       "  <thead>\n",
       "    <tr style=\"text-align: right;\">\n",
       "      <th></th>\n",
       "      <th>station</th>\n",
       "      <th>particulate_matter</th>\n",
       "      <th>datetime</th>\n",
       "      <th>value</th>\n",
       "    </tr>\n",
       "  </thead>\n",
       "  <tbody>\n",
       "    <tr>\n",
       "      <th>0</th>\n",
       "      <td>Bhaisipati</td>\n",
       "      <td>PM1</td>\n",
       "      <td>2019-06-20 08:58:00+00:00</td>\n",
       "      <td>3.7</td>\n",
       "    </tr>\n",
       "    <tr>\n",
       "      <th>1</th>\n",
       "      <td>Bhaisipati</td>\n",
       "      <td>PM1</td>\n",
       "      <td>2019-06-20 09:08:00+00:00</td>\n",
       "      <td>3.6</td>\n",
       "    </tr>\n",
       "    <tr>\n",
       "      <th>2</th>\n",
       "      <td>Bhaisipati</td>\n",
       "      <td>PM1</td>\n",
       "      <td>2019-06-20 09:18:00+00:00</td>\n",
       "      <td>3.5</td>\n",
       "    </tr>\n",
       "    <tr>\n",
       "      <th>3</th>\n",
       "      <td>Bhaisipati</td>\n",
       "      <td>PM1</td>\n",
       "      <td>2019-06-20 09:38:00+00:00</td>\n",
       "      <td>3.8</td>\n",
       "    </tr>\n",
       "    <tr>\n",
       "      <th>4</th>\n",
       "      <td>Bhaisipati</td>\n",
       "      <td>PM1</td>\n",
       "      <td>2019-06-20 09:48:00+00:00</td>\n",
       "      <td>4.1</td>\n",
       "    </tr>\n",
       "  </tbody>\n",
       "</table>\n",
       "</div>"
      ],
      "text/plain": [
       "      station particulate_matter                   datetime value\n",
       "0  Bhaisipati                 PM1 2019-06-20 08:58:00+00:00   3.7\n",
       "1  Bhaisipati                 PM1 2019-06-20 09:08:00+00:00   3.6\n",
       "2  Bhaisipati                 PM1 2019-06-20 09:18:00+00:00   3.5\n",
       "3  Bhaisipati                 PM1 2019-06-20 09:38:00+00:00   3.8\n",
       "4  Bhaisipati                 PM1 2019-06-20 09:48:00+00:00   4.1"
      ]
     },
     "execution_count": 7,
     "metadata": {},
     "output_type": "execute_result"
    }
   ],
   "source": [
    "ktm.head()"
   ]
  },
  {
   "cell_type": "code",
   "execution_count": 8,
   "id": "f4140d53",
   "metadata": {},
   "outputs": [
    {
     "data": {
      "text/plain": [
       "station                0\n",
       "particulate_matter     0\n",
       "datetime               0\n",
       "value                  0\n",
       "dtype: int64"
      ]
     },
     "execution_count": 8,
     "metadata": {},
     "output_type": "execute_result"
    }
   ],
   "source": [
    "ktm.isnull().sum()"
   ]
  },
  {
   "cell_type": "code",
   "execution_count": 9,
   "id": "5f18d01c",
   "metadata": {},
   "outputs": [],
   "source": [
    "ktm = ktm.drop_duplicates()"
   ]
  },
  {
   "cell_type": "code",
   "execution_count": null,
   "id": "c06c369e",
   "metadata": {},
   "outputs": [],
   "source": []
  }
 ],
 "metadata": {
  "kernelspec": {
   "display_name": "Python 3",
   "language": "python",
   "name": "python3"
  },
  "language_info": {
   "codemirror_mode": {
    "name": "ipython",
    "version": 3
   },
   "file_extension": ".py",
   "mimetype": "text/x-python",
   "name": "python",
   "nbconvert_exporter": "python",
   "pygments_lexer": "ipython3",
   "version": "3.13.7"
  }
 },
 "nbformat": 4,
 "nbformat_minor": 5
}
